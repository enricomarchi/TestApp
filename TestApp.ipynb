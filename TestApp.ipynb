{
 "cells": [
  {
   "cell_type": "code",
   "execution_count": 1,
   "metadata": {},
   "outputs": [
    {
     "ename": "ModuleNotFoundError",
     "evalue": "No module named 'dash'",
     "output_type": "error",
     "traceback": [
      "\u001b[0;31m---------------------------------------------------------------------------\u001b[0m",
      "\u001b[0;31mModuleNotFoundError\u001b[0m                       Traceback (most recent call last)",
      "\u001b[1;32m/home/enrico/Documenti/TestApp/TestApp.ipynb Cell 1\u001b[0m line \u001b[0;36m1\n\u001b[0;32m----> <a href='vscode-notebook-cell:/home/enrico/Documenti/TestApp/TestApp.ipynb#W0sZmlsZQ%3D%3D?line=0'>1</a>\u001b[0m \u001b[39mimport\u001b[39;00m \u001b[39mdash\u001b[39;00m\n\u001b[1;32m      <a href='vscode-notebook-cell:/home/enrico/Documenti/TestApp/TestApp.ipynb#W0sZmlsZQ%3D%3D?line=1'>2</a>\u001b[0m \u001b[39mfrom\u001b[39;00m \u001b[39mdash\u001b[39;00m \u001b[39mimport\u001b[39;00m html, dcc, Input, Output\n\u001b[1;32m      <a href='vscode-notebook-cell:/home/enrico/Documenti/TestApp/TestApp.ipynb#W0sZmlsZQ%3D%3D?line=2'>3</a>\u001b[0m \u001b[39mimport\u001b[39;00m \u001b[39mplotly\u001b[39;00m\u001b[39m.\u001b[39;00m\u001b[39mexpress\u001b[39;00m \u001b[39mas\u001b[39;00m \u001b[39mpx\u001b[39;00m\n",
      "\u001b[0;31mModuleNotFoundError\u001b[0m: No module named 'dash'"
     ]
    }
   ],
   "source": [
    "import dash\n",
    "from dash import html, dcc, Input, Output\n",
    "import plotly.express as px\n",
    "import pandas as pd\n",
    "import psycopg2\n",
    "\n",
    "# Connessione a PostgreSQL\n",
    "conn = psycopg2.connect(database=\"postgres\", user=\"postgres\", password=\"932197\", host=\"127.0.0.1\", port=\"5432\")\n",
    "\n",
    "app = dash.Dash(__name__)\n",
    "\n",
    "def query_db():\n",
    "    df = pd.read_sql_query(\"SELECT * FROM Prova LIMIT 10;\", conn)\n",
    "    return df\n",
    "\n",
    "# Layout iniziale\n",
    "app.layout = html.Div([\n",
    "    dcc.Dropdown(\n",
    "        id='dropdown',\n",
    "        options=[\n",
    "            {'label': 'Opzione 1', 'value': 'val1'},\n",
    "            {'label': 'Opzione 2', 'value': 'val2'}\n",
    "        ],\n",
    "        value='val1'\n",
    "    ),\n",
    "    dcc.Graph(id='graph')\n",
    "])\n",
    "\n",
    "# Callback per aggiornare il grafico\n",
    "@app.callback(\n",
    "    Output('graph', 'figure'),\n",
    "    Input('dropdown', 'value')\n",
    ")\n",
    "def update_graph(selected_value):\n",
    "    df = query_db()\n",
    "    # Filtra o trasforma il DataFrame in base a selected_value\n",
    "    fig = px.bar(df, x='campo1', y='campo2')\n",
    "    return fig\n",
    "\n",
    "if __name__ == '__main__':\n",
    "    app.run_server(debug=True)\n"
   ]
  }
 ],
 "metadata": {
  "kernelspec": {
   "display_name": ".venv",
   "language": "python",
   "name": "python3"
  },
  "language_info": {
   "codemirror_mode": {
    "name": "ipython",
    "version": 3
   },
   "file_extension": ".py",
   "mimetype": "text/x-python",
   "name": "python",
   "nbconvert_exporter": "python",
   "pygments_lexer": "ipython3",
   "version": "3.10.12"
  }
 },
 "nbformat": 4,
 "nbformat_minor": 2
}
